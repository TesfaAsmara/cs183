{
 "cells": [
  {
   "cell_type": "code",
   "execution_count": null,
   "metadata": {},
   "outputs": [],
   "source": [
    "#| hide\n",
    "from cs183.core import *"
   ]
  },
  {
   "cell_type": "markdown",
   "metadata": {},
   "source": [
    "# CS183: Quantcast/HMC 2023-2024 Spark Autotuning \n",
    "\n",
    "> A place to present my work for Quantcast's and Harvey Mudd College's Clinic Capstone: Automatic Spark Tuning For Low Waste Batch Processing."
   ]
  },
  {
   "cell_type": "markdown",
   "metadata": {},
   "source": [
    "## Installation"
   ]
  },
  {
   "cell_type": "markdown",
   "metadata": {},
   "source": [
    "I installed PySpark by following the instructions in the [Apache Spark documentation](https://spark.apache.org/docs/latest/api/python/getting_started/install.html).\n",
    "\n",
    "I created a new conda environment. I installed pip, PySpark, and PyArrow.\n",
    "\n",
    "```{sh}\n",
    "conda create -n sparkenv -y\n",
    "conda activate sparkenv\n",
    "conda install pip -y\n",
    "/.../sparkenv/bin/pip install pyspark\n",
    "conda install -c conda-forge pyarrow -y \n",
    "```"
   ]
  },
  {
   "cell_type": "markdown",
   "metadata": {},
   "source": [
    "## How to use"
   ]
  },
  {
   "cell_type": "markdown",
   "metadata": {},
   "source": [
    "Please see the associated Jupyter notebooks."
   ]
  }
 ],
 "metadata": {
  "kernelspec": {
   "display_name": "python3",
   "language": "python",
   "name": "python3"
  }
 },
 "nbformat": 4,
 "nbformat_minor": 4
}
