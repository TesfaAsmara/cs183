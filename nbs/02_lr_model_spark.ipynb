{
 "cells": [
  {
   "cell_type": "code",
   "execution_count": 18,
   "metadata": {},
   "outputs": [
    {
     "ename": "AttributeError",
     "evalue": "'LinearRegressionModel' object has no attribute 'weights'",
     "output_type": "error",
     "traceback": [
      "\u001b[0;31m---------------------------------------------------------------------------\u001b[0m",
      "\u001b[0;31mAttributeError\u001b[0m                            Traceback (most recent call last)",
      "Cell \u001b[0;32mIn[18], line 57\u001b[0m\n\u001b[1;32m     53\u001b[0m lr_model \u001b[38;5;241m=\u001b[39m lr\u001b[38;5;241m.\u001b[39mfit(train_data)\n\u001b[1;32m     55\u001b[0m \u001b[38;5;66;03m# Print the weights and intercept for linear regression\u001b[39;00m\n\u001b[1;32m     56\u001b[0m \u001b[38;5;66;03m# note that lr_model.weights is outdated\u001b[39;00m\n\u001b[0;32m---> 57\u001b[0m \u001b[38;5;28mprint\u001b[39m(\u001b[38;5;124m\"\u001b[39m\u001b[38;5;124mWeights: \u001b[39m\u001b[38;5;124m\"\u001b[39m \u001b[38;5;241m+\u001b[39m \u001b[38;5;28mstr\u001b[39m(\u001b[43mlr_model\u001b[49m\u001b[38;5;241;43m.\u001b[39;49m\u001b[43mweights\u001b[49m))\n\u001b[1;32m     58\u001b[0m \u001b[38;5;28mprint\u001b[39m(\u001b[38;5;124m\"\u001b[39m\u001b[38;5;124mIntercept: \u001b[39m\u001b[38;5;124m\"\u001b[39m \u001b[38;5;241m+\u001b[39m \u001b[38;5;28mstr\u001b[39m(lr_model\u001b[38;5;241m.\u001b[39mintercept))\n\u001b[1;32m     60\u001b[0m predictions \u001b[38;5;241m=\u001b[39m lr_model\u001b[38;5;241m.\u001b[39mtransform(test_data)\n",
      "\u001b[0;31mAttributeError\u001b[0m: 'LinearRegressionModel' object has no attribute 'weights'"
     ]
    }
   ],
   "source": [
    "import os\n",
    "from pyspark.sql import SparkSession\n",
    "from pyspark.sql.functions import rand\n",
    "from pyspark.ml.feature import VectorAssembler\n",
    "from pyspark.ml.regression import LinearRegression\n",
    "from pyspark.ml.evaluation import RegressionEvaluator\n",
    "import datetime\n",
    "\n",
    "\n",
    "spark = SparkSession.builder.appName(\"lr_model_spark\").getOrCreate()\n",
    "\n",
    "# data = spark.range(0, 100).select(\"id\")\n",
    "# data = data.withColumn(\"feature1\", rand(seed=42))\n",
    "# data = data.withColumn(\"feature2\", rand(seed=27))\n",
    "# data = data.withColumn(\"label\", data[\"feature1\"] * 2 + data[\"feature2\"] * 3)\n",
    "\n",
    "# # https://spark.apache.org/docs/3.1.3/api/python/reference/api/pyspark.ml.feature.VectorAssembler.html\n",
    "# # multiple columns into a vector column\n",
    "# assembler = VectorAssembler(inputCols=[\"feature1\", \"feature2\"], outputCol=\"features\")\n",
    "# data = assembler.transform(data)\n",
    "\n",
    "## REMARK: if we had data then we could read it in like\n",
    "# https://spark.apache.org/docs/1.5.2/ml-linear-methods.html\n",
    "# from pyspark.mllib.util import MLUtils\n",
    "\n",
    "# # Load training data\n",
    "# training = MLUtils.loadLibSVMFile(sc, \"data/mllib/sample_libsvm_data.txt\").toDF()\n",
    "\n",
    "# number of features, how intensive do we want the job?\n",
    "num_features = 4\n",
    "\n",
    "# make your dataframe and give yourself ample columns\n",
    "# 1 column for target, one for feature vector, one extra\n",
    "data = spark.range(0, num_features+3).select(\"id\")\n",
    "\n",
    "\n",
    "# now we can create feature columns dynamically\n",
    "for i in range(num_features):\n",
    "    seed = i  # keep track of seed values for reproducibility\n",
    "    data = data.withColumn(f\"feature{i+1}\", rand(seed=seed))\n",
    "\n",
    "# make our target\n",
    "# target = feature_1 * 1 + feature_2 * 2 + ... + feature_n *n\n",
    "data = data.withColumn(\"label\", sum(data[f\"feature{i+1}\"] * (i+1) for i in range(num_features)))\n",
    "\n",
    "# https://spark.apache.org/docs/3.1.3/api/python/reference/api/pyspark.ml.feature.VectorAssembler.html\n",
    "# multiple columns into a vector column\n",
    "feature_columns = [f\"feature{i+1}\" for i in range(num_features)]\n",
    "assembler = VectorAssembler(inputCols=feature_columns, outputCol=\"features\")\n",
    "data = assembler.transform(data)\n",
    "\n",
    "# training and test sets\n",
    "train_data, test_data = data.randomSplit([0.7, 0.3])\n",
    "\n",
    "# elastic net regularized linear regression model\n",
    "# https://spark.apache.org/docs/1.5.2/ml-linear-methods.html\n",
    "lr = LinearRegression(featuresCol='features', labelCol='label', regParam=0.3, elasticNetParam=0.8)\n",
    "lr_model = lr.fit(train_data)\n",
    "\n",
    "# Print the weights and intercept for linear regression\n",
    "# note that lr_model.weights is outdated\n",
    "print(\"Weights: \" + str(lr_model.coefficients))\n",
    "print(\"Intercept: \" + str(lr_model.intercept))\n",
    "\n",
    "predictions = lr_model.transform(test_data)\n",
    "\n",
    "# https://spark.apache.org/docs/latest/api/python/reference/api/pyspark.ml.evaluation.RegressionEvaluator.html\n",
    "evaluator = RegressionEvaluator(labelCol=\"label\", predictionCol=\"prediction\", metricName=\"rmse\")\n",
    "rmse = evaluator.evaluate(predictions)\n",
    "# the average difference between a statistical model’s predicted values and the actual values. \n",
    "# Mathematically, it is the standard deviation of the residuals. \n",
    "# Residuals represent the distance between the regression line and the data points.\n",
    "# https://statisticsbyjim.com/regression/root-mean-square-error-rmse/\n",
    "print(\"Root Mean Squared Error (RMSE) on test data =\", rmse)\n",
    "\n",
    "\n",
    "# how to store the model, pass ing a file_path\n",
    "model_file_path = f\"lr_model{datetime.datetime.now().strftime('%Y%m%d_%H%M%S')}\"\n",
    "lr_model.save(model_file_path)\n",
    "\n",
    "spark.stop()\n"
   ]
  },
  {
   "cell_type": "code",
   "execution_count": null,
   "metadata": {},
   "outputs": [],
   "source": []
  }
 ],
 "metadata": {
  "kernelspec": {
   "display_name": "Python 3.11.5 ('sparkenv')",
   "language": "python",
   "name": "python3"
  },
  "language_info": {
   "codemirror_mode": {
    "name": "ipython",
    "version": 3
   },
   "file_extension": ".py",
   "mimetype": "text/x-python",
   "name": "python",
   "nbconvert_exporter": "python",
   "pygments_lexer": "ipython3",
   "version": "3.11.5"
  },
  "orig_nbformat": 4,
  "vscode": {
   "interpreter": {
    "hash": "8af23d0cf4af99dfae7abd1f1b9394f577b0bf3f3e1585742e30428f1569d8b8"
   }
  }
 },
 "nbformat": 4,
 "nbformat_minor": 2
}
